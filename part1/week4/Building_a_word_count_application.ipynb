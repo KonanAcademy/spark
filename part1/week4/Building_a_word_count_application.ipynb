{
 "cells": [
  {
   "cell_type": "code",
   "execution_count": 5,
   "metadata": {
    "collapsed": false
   },
   "outputs": [
    {
     "ename": "ValueError",
     "evalue": "Cannot run multiple SparkContexts at once; existing SparkContext(app=pyspark-shell, master=local[*]) created by __init__ at <ipython-input-2-556aa194a2f1>:3 ",
     "output_type": "error",
     "traceback": [
      "\u001b[1;31m---------------------------------------------------------------------------\u001b[0m",
      "\u001b[1;31mValueError\u001b[0m                                Traceback (most recent call last)",
      "\u001b[1;32m<ipython-input-5-556aa194a2f1>\u001b[0m in \u001b[0;36m<module>\u001b[1;34m()\u001b[0m\n\u001b[0;32m      1\u001b[0m \u001b[1;32mfrom\u001b[0m \u001b[0mpyspark\u001b[0m \u001b[1;32mimport\u001b[0m \u001b[0mSparkContext\u001b[0m\u001b[1;33m\u001b[0m\u001b[0m\n\u001b[0;32m      2\u001b[0m \u001b[1;33m\u001b[0m\u001b[0m\n\u001b[1;32m----> 3\u001b[1;33m \u001b[0msc\u001b[0m \u001b[1;33m=\u001b[0m \u001b[0mSparkContext\u001b[0m\u001b[1;33m(\u001b[0m\u001b[1;33m)\u001b[0m\u001b[1;33m\u001b[0m\u001b[0m\n\u001b[0m",
      "\u001b[1;32m/usr/local/spark/python/pyspark/context.py\u001b[0m in \u001b[0;36m__init__\u001b[1;34m(self, master, appName, sparkHome, pyFiles, environment, batchSize, serializer, conf, gateway, jsc, profiler_cls)\u001b[0m\n\u001b[0;32m    108\u001b[0m         \"\"\"\n\u001b[0;32m    109\u001b[0m         \u001b[0mself\u001b[0m\u001b[1;33m.\u001b[0m\u001b[0m_callsite\u001b[0m \u001b[1;33m=\u001b[0m \u001b[0mfirst_spark_call\u001b[0m\u001b[1;33m(\u001b[0m\u001b[1;33m)\u001b[0m \u001b[1;32mor\u001b[0m \u001b[0mCallSite\u001b[0m\u001b[1;33m(\u001b[0m\u001b[1;32mNone\u001b[0m\u001b[1;33m,\u001b[0m \u001b[1;32mNone\u001b[0m\u001b[1;33m,\u001b[0m \u001b[1;32mNone\u001b[0m\u001b[1;33m)\u001b[0m\u001b[1;33m\u001b[0m\u001b[0m\n\u001b[1;32m--> 110\u001b[1;33m         \u001b[0mSparkContext\u001b[0m\u001b[1;33m.\u001b[0m\u001b[0m_ensure_initialized\u001b[0m\u001b[1;33m(\u001b[0m\u001b[0mself\u001b[0m\u001b[1;33m,\u001b[0m \u001b[0mgateway\u001b[0m\u001b[1;33m=\u001b[0m\u001b[0mgateway\u001b[0m\u001b[1;33m)\u001b[0m\u001b[1;33m\u001b[0m\u001b[0m\n\u001b[0m\u001b[0;32m    111\u001b[0m         \u001b[1;32mtry\u001b[0m\u001b[1;33m:\u001b[0m\u001b[1;33m\u001b[0m\u001b[0m\n\u001b[0;32m    112\u001b[0m             self._do_init(master, appName, sparkHome, pyFiles, environment, batchSize, serializer,\n",
      "\u001b[1;32m/usr/local/spark/python/pyspark/context.py\u001b[0m in \u001b[0;36m_ensure_initialized\u001b[1;34m(cls, instance, gateway)\u001b[0m\n\u001b[0;32m    248\u001b[0m                         \u001b[1;34m\" created by %s at %s:%s \"\u001b[0m\u001b[1;33m\u001b[0m\u001b[0m\n\u001b[0;32m    249\u001b[0m                         % (currentAppName, currentMaster,\n\u001b[1;32m--> 250\u001b[1;33m                             callsite.function, callsite.file, callsite.linenum))\n\u001b[0m\u001b[0;32m    251\u001b[0m                 \u001b[1;32melse\u001b[0m\u001b[1;33m:\u001b[0m\u001b[1;33m\u001b[0m\u001b[0m\n\u001b[0;32m    252\u001b[0m                     \u001b[0mSparkContext\u001b[0m\u001b[1;33m.\u001b[0m\u001b[0m_active_spark_context\u001b[0m \u001b[1;33m=\u001b[0m \u001b[0minstance\u001b[0m\u001b[1;33m\u001b[0m\u001b[0m\n",
      "\u001b[1;31mValueError\u001b[0m: Cannot run multiple SparkContexts at once; existing SparkContext(app=pyspark-shell, master=local[*]) created by __init__ at <ipython-input-2-556aa194a2f1>:3 "
     ]
    }
   ],
   "source": [
    "from pyspark import SparkContext\n",
    "\n",
    "sc = SparkContext()"
   ]
  },
  {
   "cell_type": "code",
   "execution_count": 6,
   "metadata": {
    "collapsed": false
   },
   "outputs": [],
   "source": [
    "wordsList = ['cat', 'elephant', 'rat' ,'rat', 'cat']\n",
    "wordsRDD = sc.parallelize(wordsList,4)"
   ]
  },
  {
   "cell_type": "code",
   "execution_count": 8,
   "metadata": {
    "collapsed": false
   },
   "outputs": [
    {
     "name": "stdout",
     "output_type": "stream",
     "text": [
      "cats\n"
     ]
    }
   ],
   "source": [
    "def makePlural(word):\n",
    "    return word + \"s\"\n",
    "\n",
    "print(makePlural('cat'))"
   ]
  },
  {
   "cell_type": "code",
   "execution_count": 17,
   "metadata": {
    "collapsed": false
   },
   "outputs": [],
   "source": [
    "import hashlib\n",
    "\n",
    "class TestFailure(Exception):\n",
    "  pass\n",
    "class PrivateTestFailure(Exception):\n",
    "  pass\n",
    "\n",
    "class Test(object):\n",
    "  passed = 0\n",
    "  numTests = 0\n",
    "  failFast = False\n",
    "  private = False\n",
    "\n",
    "  @classmethod\n",
    "  def setFailFast(cls):\n",
    "    cls.failFast = True\n",
    "\n",
    "  @classmethod\n",
    "  def setPrivateMode(cls):\n",
    "    cls.private = True\n",
    "\n",
    "  @classmethod\n",
    "  def assertTrue(cls, result, msg=\"\"):\n",
    "    cls.numTests += 1\n",
    "    if result == True:\n",
    "      cls.passed += 1\n",
    "      print(\"1 test passed.\")\n",
    "    else:\n",
    "      print(\"1 test failed. \" + msg)\n",
    "      if cls.failFast:\n",
    "        if cls.private:\n",
    "          raise PrivateTestFailure(msg)\n",
    "        else:\n",
    "          raise TestFailure(msg)\n",
    "\n",
    "  @classmethod\n",
    "  def assertEquals(cls, var, val, msg=\"\"):\n",
    "    cls.assertTrue(var == val, msg)\n",
    "\n",
    "  @classmethod\n",
    "  def assertEqualsHashed(cls, var, hashed_val, msg=\"\"):\n",
    "    cls.assertEquals(cls._hash(var), hashed_val, msg)\n",
    "\n",
    "  @classmethod\n",
    "  def printStats(cls):\n",
    "    print(\"{0} / {1} test(s) passed.\".format(cls.passed, cls.numTests))\n",
    "\n",
    "  @classmethod\n",
    "  def _hash(cls, x):\n",
    "    return hashlib.sha1(str(x)).hexdigest()"
   ]
  },
  {
   "cell_type": "code",
   "execution_count": 18,
   "metadata": {
    "collapsed": false
   },
   "outputs": [
    {
     "name": "stdout",
     "output_type": "stream",
     "text": [
      "1 test passed.\n"
     ]
    }
   ],
   "source": [
    "Test.assertEquals(makePlural('rat'), 'rats', 'incorrect reslt: makePlural does not add an s')"
   ]
  },
  {
   "cell_type": "code",
   "execution_count": 23,
   "metadata": {
    "collapsed": false
   },
   "outputs": [
    {
     "name": "stdout",
     "output_type": "stream",
     "text": [
      "['cats', 'elephants', 'rats', 'rats', 'cats']\n",
      "1 test passed.\n"
     ]
    }
   ],
   "source": [
    "PluralRDD = wordsRDD.map(makePlural)\n",
    "print(PluralRDD.collect())\n",
    "Test.assertEquals(PluralRDD.collect(), ['cats', 'elephants', 'rats', 'rats', 'cats'], 'incorrect values for pluralRDD')"
   ]
  },
  {
   "cell_type": "code",
   "execution_count": 26,
   "metadata": {
    "collapsed": false
   },
   "outputs": [
    {
     "name": "stdout",
     "output_type": "stream",
     "text": [
      "['cats', 'elephants', 'rats', 'rats', 'cats']\n",
      "1 test passed.\n"
     ]
    }
   ],
   "source": [
    "PluralLambdaRDD = wordsRDD.map(lambda x: x+'s')\n",
    "print(PluralLambdaRDD.collect())\n",
    "Test.assertEquals(PluralRDD.collect(), ['cats','elephants', 'rats', 'rats', 'cats'], 'incorrect values for pluralRDD')"
   ]
  },
  {
   "cell_type": "code",
   "execution_count": 30,
   "metadata": {
    "collapsed": false
   },
   "outputs": [
    {
     "name": "stdout",
     "output_type": "stream",
     "text": [
      "[4, 9, 4, 4, 4]\n",
      "1 test passed.\n"
     ]
    }
   ],
   "source": [
    "pluralLengths = PluralRDD.map(lambda x: len(x)).collect()\n",
    "print(pluralLengths)\n",
    "Test.assertEquals(pluralLengths, [4,9,4,4,4], 'incorrect values for pluralLengths')"
   ]
  },
  {
   "cell_type": "code",
   "execution_count": 36,
   "metadata": {
    "collapsed": false
   },
   "outputs": [
    {
     "name": "stdout",
     "output_type": "stream",
     "text": [
      "[('cat', 1), ('elephant', 1), ('rat', 1), ('rat', 1), ('cat', 1)]\n",
      "1 test passed.\n"
     ]
    }
   ],
   "source": [
    "wordPairs = wordsRDD.map(lambda x:(x,1))\n",
    "print(wordPairs.collect())\n",
    "Test.assertEquals(wordPairs.collect(), [('cat', 1), ('elephant',1), ('rat', 1), ('rat',1), ('cat', 1)], 'incorrect value for wordPairs')"
   ]
  },
  {
   "cell_type": "code",
   "execution_count": 41,
   "metadata": {
    "collapsed": false
   },
   "outputs": [
    {
     "name": "stdout",
     "output_type": "stream",
     "text": [
      "cat: [1, 1]\n",
      "elephant: [1]\n",
      "rat: [1, 1]\n",
      "1 test passed.\n"
     ]
    }
   ],
   "source": [
    "wordsGrouped = wordPairs.groupByKey()\n",
    "for key,value in wordsGrouped.collect():\n",
    "    print('{0}: {1}'.format(key, list(value)))\n",
    "    \n",
    "Test.assertEquals(sorted(wordsGrouped.mapValues(lambda x:list(x)).collect()),[('cat', [1,1]), ('elephant', [1]), ('rat', [1,1])], 'incorrect value for wordsGrouped')"
   ]
  },
  {
   "cell_type": "code",
   "execution_count": 58,
   "metadata": {
    "collapsed": false
   },
   "outputs": [
    {
     "name": "stdout",
     "output_type": "stream",
     "text": [
      "[('cat', 2), ('elephant', 1), ('rat', 2)]\n",
      "1 test passed.\n"
     ]
    }
   ],
   "source": [
    "wordCountsGrouped = wordsGrouped.map(lambda args: (args[0], len(args[1])))\n",
    "print(wordCountsGrouped.collect())\n",
    "Test.assertEquals(sorted(wordCountsGrouped.collect()), [('cat',2),('elephant',1), ('rat', 2)], 'incorrect value for wordCountsGrouped')"
   ]
  },
  {
   "cell_type": "code",
   "execution_count": 71,
   "metadata": {
    "collapsed": false
   },
   "outputs": [
    {
     "name": "stdout",
     "output_type": "stream",
     "text": [
      "[('cat', 2), ('elephant', 1), ('rat', 2)]\n"
     ]
    }
   ],
   "source": [
    "wordCounts = wordPairs.reduceByKey(lambda x,y: x+y)\n",
    "print(wordCounts.collect())"
   ]
  },
  {
   "cell_type": "code",
   "execution_count": 76,
   "metadata": {
    "collapsed": false
   },
   "outputs": [
    {
     "name": "stdout",
     "output_type": "stream",
     "text": [
      "3\n",
      "1 test passed.\n"
     ]
    }
   ],
   "source": [
    "uniqueWords = wordCounts.count()\n",
    "print(uniqueWords)\n",
    "\n",
    "Test.assertEquals(uniqueWords, 3, 'incorrect count of uniqueWords')"
   ]
  },
  {
   "cell_type": "code",
   "execution_count": 82,
   "metadata": {
    "collapsed": false
   },
   "outputs": [
    {
     "name": "stdout",
     "output_type": "stream",
     "text": [
      "5\n",
      "1.67\n",
      "1 test passed.\n"
     ]
    }
   ],
   "source": [
    "from operator import add\n",
    "totalCount = wordCounts.map(lambda args: (args[1])).reduce(add)\n",
    "average = totalCount / float(uniqueWords)\n",
    "print(totalCount)\n",
    "print(round(average,2))\n",
    "\n",
    "Test.assertEquals(round(average, 2), 1.67, 'incorrect value of average')"
   ]
  },
  {
   "cell_type": "code",
   "execution_count": 188,
   "metadata": {
    "collapsed": false
   },
   "outputs": [
    {
     "name": "stdout",
     "output_type": "stream",
     "text": [
      "[('cat', 2), ('elephant', 1), ('rat', 2)]\n",
      "1 test passed.\n"
     ]
    }
   ],
   "source": [
    "def wordCount(wordListRDD):\n",
    "    wordPairs = wordsRDD.map(lambda x:(x,1))\n",
    "    wordCounts = wordPairs.reduceByKey(lambda x,y: x+y)\n",
    "    \n",
    "    return wordCounts\n",
    "\n",
    "print(wordCount(wordsRDD).collect())\n",
    "\n",
    "Test.assertEquals(sorted(wordCount(wordsRDD).collect()), [('cat',2), ('elephant', 1), ('rat', 2)], 'incorrect definition for wordCount function')"
   ]
  },
  {
   "cell_type": "code",
   "execution_count": 130,
   "metadata": {
    "collapsed": false
   },
   "outputs": [
    {
     "name": "stdout",
     "output_type": "stream",
     "text": [
      "hi you\n",
      " no underscore\n",
      "1 test passed.\n"
     ]
    }
   ],
   "source": [
    "import re\n",
    "def removePunctuation(text):\n",
    "    return re.sub(\"['!,@#$%^&*()_.:-]\", \"\", text).lower()\n",
    "    \n",
    "print(removePunctuation('Hi, you!'))\n",
    "print(removePunctuation(' No under_score!'))\n",
    "Test.assertEquals(removePunctuation(\" The Elephant's 4 cats. \"), ' the elephants 4 cats ', 'incorrect definition for removePunctuation function')"
   ]
  },
  {
   "cell_type": "code",
   "execution_count": 125,
   "metadata": {
    "collapsed": false
   },
   "outputs": [
    {
     "name": "stdout",
     "output_type": "stream",
     "text": [
      "Untitled1.ipynb  Untitled2.ipynb  pg100.txt\r\n"
     ]
    }
   ],
   "source": [
    "!ls"
   ]
  },
  {
   "cell_type": "code",
   "execution_count": 131,
   "metadata": {
    "collapsed": false
   },
   "outputs": [
    {
     "name": "stdout",
     "output_type": "stream",
     "text": [
      "the project gutenberg ebook of the complete works of william shakespeare by: 0\n",
      "william shakespeare: 1\n",
      ": 2\n",
      "this ebook is for the use of anyone anywhere at no cost and with: 3\n",
      "almost no restrictions whatsoever  you may copy it give it away or: 4\n",
      "reuse it under the terms of the project gutenberg license included: 5\n",
      "with this ebook or online at wwwgutenbergorg: 6\n",
      ": 7\n",
      " this is a copyrighted project gutenberg ebook details below : 8\n",
      "     please follow the copyright guidelines in this file     : 9\n",
      ": 10\n",
      "title the complete works of william shakespeare: 11\n",
      ": 12\n",
      "author william shakespeare: 13\n",
      ": 14\n"
     ]
    }
   ],
   "source": [
    "shakespeareRDD = (sc.textFile('pg100.txt', 8).map(removePunctuation))\n",
    "print('\\n'.join(shakespeareRDD.zipWithIndex().map(lambda args: '{0}: {1}'.format(args[0], args[1])).take(15)))"
   ]
  },
  {
   "cell_type": "code",
   "execution_count": 175,
   "metadata": {
    "collapsed": false
   },
   "outputs": [
    {
     "name": "stdout",
     "output_type": "stream",
     "text": [
      "['the', 'project', 'gutenberg', 'ebook', 'of', 'the', 'complete', 'works', 'of', 'william', 'shakespeare', 'by', 'william', 'shakespeare', '']\n",
      "1410671\n"
     ]
    }
   ],
   "source": [
    "shakespeareWordsRDD = shakespeareRDD.flatMap(lambda x: x.split(' '))\n",
    "shakespeareWordCount = shakespeareWordsRDD.count()\n",
    "print(shakespeareWordsRDD.take(15))\n",
    "print(shakespeareWordCount)"
   ]
  },
  {
   "cell_type": "code",
   "execution_count": 181,
   "metadata": {
    "collapsed": false
   },
   "outputs": [
    {
     "name": "stdout",
     "output_type": "stream",
     "text": [
      "['the', 'project', 'gutenberg', 'ebook', 'of', 'the', 'complete', 'works', 'of', 'william', 'shakespeare', 'by', 'william', 'shakespeare', 'this']\n",
      "903972\n"
     ]
    }
   ],
   "source": [
    "shakeWordsRDD = shakespeareWordsRDD.filter(lambda x:  x != '')\n",
    "print(shakeWordsRDD.take(15))\n",
    "shakeWordCount = shakeWordsRDD.count()\n",
    "print(shakeWordCount)"
   ]
  },
  {
   "cell_type": "code",
   "execution_count": 210,
   "metadata": {
    "collapsed": false
   },
   "outputs": [
    {
     "name": "stdout",
     "output_type": "stream",
     "text": [
      "the: 27780\n",
      "and: 26774\n",
      "i: 20594\n",
      "to: 18934\n",
      "of: 18249\n",
      "a: 14625\n",
      "you: 13190\n",
      "my: 12480\n",
      "that: 10981\n",
      "in: 10951\n",
      "is: 9563\n",
      "not: 8503\n",
      "for: 8238\n",
      "with: 8024\n",
      "it: 7328\n"
     ]
    }
   ],
   "source": [
    "top15WordsAndCounts = shakeWordsRDD.map(lambda x:(x,1)).reduceByKey(add).takeOrdered(15, lambda args:-args[1])\n",
    "print('\\n'.join(map(lambda args:'{0}: {1}'.format(args[0],args[1]), top15WordsAndCounts)))\n"
   ]
  },
  {
   "cell_type": "code",
   "execution_count": null,
   "metadata": {
    "collapsed": true
   },
   "outputs": [],
   "source": []
  },
  {
   "cell_type": "code",
   "execution_count": null,
   "metadata": {
    "collapsed": true
   },
   "outputs": [],
   "source": []
  }
 ],
 "metadata": {
  "kernelspec": {
   "display_name": "Python 3",
   "language": "python",
   "name": "python3"
  },
  "language_info": {
   "codemirror_mode": {
    "name": "ipython",
    "version": 3
   },
   "file_extension": ".py",
   "mimetype": "text/x-python",
   "name": "python",
   "nbconvert_exporter": "python",
   "pygments_lexer": "ipython3",
   "version": "3.4.3"
  }
 },
 "nbformat": 4,
 "nbformat_minor": 0
}
